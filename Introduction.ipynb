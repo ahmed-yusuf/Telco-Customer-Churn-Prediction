{
 "cells": [
  {
   "cell_type": "markdown",
   "id": "5f91e7b3",
   "metadata": {},
   "source": [
    "## INTRODUCTION"
   ]
  },
  {
   "cell_type": "markdown",
   "id": "8301230b",
   "metadata": {},
   "source": [
    "The analysis was performed using the IBM customer base that can be accessed in kaggle by the link https://www.kaggle.com/datasets/blastchar/telco-customer-churn.\n",
    "\n",
    "The motivation of the analysis is to understand which factors take the client churn (when the client cancels the service in a certain period of time). Knowing which clients are favorable to the churn, the company can allocate years and offer discounts/benefits to retain the client.\n",
    "\n",
    "Some questions we will try to answer:\n",
    "\n",
    "Quantity of clients that leave the service?\n",
    "Distribution by gender?\n",
    "Distribution by partners?\n",
    "Customers with telephone? internet service? TV streaming? Film Streaming?\n",
    "What is the most common payment method among the clients?\n",
    "What type of contract is most common among the clients?\n",
    "Does the type of payment influence me to cancel the service?\n",
    "Does the type of contract influence me to cancel the service?\n",
    "Customers who pay more per month, have a better chance of canceling the service? e not total expenses?\n",
    "Clients who have more time of use, have less chances of canceling the contract?"
   ]
  }
 ],
 "metadata": {
  "kernelspec": {
   "display_name": "Python 3 (ipykernel)",
   "language": "python",
   "name": "python3"
  },
  "language_info": {
   "codemirror_mode": {
    "name": "ipython",
    "version": 3
   },
   "file_extension": ".py",
   "mimetype": "text/x-python",
   "name": "python",
   "nbconvert_exporter": "python",
   "pygments_lexer": "ipython3",
   "version": "3.9.12"
  }
 },
 "nbformat": 4,
 "nbformat_minor": 5
}
